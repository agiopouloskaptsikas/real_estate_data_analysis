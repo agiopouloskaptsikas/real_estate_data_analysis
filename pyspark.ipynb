{
 "cells": [
  {
   "attachments": {},
   "cell_type": "markdown",
   "metadata": {},
   "source": [
    "# Import PySpark"
   ]
  },
  {
   "cell_type": "code",
   "execution_count": 128,
   "metadata": {},
   "outputs": [],
   "source": [
    "import pyspark\n",
    "from pyspark.sql import *\n",
    "from pyspark.sql.types import *\n",
    "from pyspark import SparkContext, SparkConf\n",
    "from pyspark.sql import *\n",
    "from pyspark.sql.functions import *\n",
    "from pyspark.sql.types import *"
   ]
  },
  {
   "attachments": {},
   "cell_type": "markdown",
   "metadata": {},
   "source": [
    "# Initialize PySpark Session"
   ]
  },
  {
   "cell_type": "code",
   "execution_count": 7,
   "metadata": {},
   "outputs": [],
   "source": [
    "spark = SparkSession.builder.appName(\"zillow\").getOrCreate()"
   ]
  },
  {
   "attachments": {},
   "cell_type": "markdown",
   "metadata": {},
   "source": [
    "# Load Data"
   ]
  },
  {
   "cell_type": "code",
   "execution_count": 14,
   "metadata": {},
   "outputs": [],
   "source": [
    "zillow = (spark\n",
    "    .read\n",
    "    .option(\"header\", True)\n",
    "    .csv(r\"G:\\My Drive\\AUEB\\3. AUEB MSCDS\\Studying Material\\Courses\\Winter\\Large Scale Data Management\\Assignments\\A2_pyspark\\zillow.csv\"))"
   ]
  },
  {
   "attachments": {},
   "cell_type": "markdown",
   "metadata": {},
   "source": [
    "# Create User Defined Functions"
   ]
  },
  {
   "cell_type": "code",
   "execution_count": null,
   "metadata": {},
   "outputs": [],
   "source": [
    "@udf(returnType = FloatType()) \n",
    "def GrossInternalArea(input):\n",
    "    import re\n",
    "    try:\n",
    "        return float(re.search(\"([0-9]*)\\ssqft\", input).group(1))\n",
    "    except:\n",
    "        return -1"
   ]
  },
  {
   "cell_type": "code",
   "execution_count": null,
   "metadata": {},
   "outputs": [
    {
     "name": "stdout",
     "output_type": "stream",
     "text": [
      "+-------------------------------------+\n",
      "|GrossInternalArea(facts and features)|\n",
      "+-------------------------------------+\n",
      "|                                705.0|\n",
      "|                               1228.0|\n",
      "|                               1000.0|\n",
      "|                               6836.0|\n",
      "|                               1000.0|\n",
      "|                               2313.0|\n",
      "|                                780.0|\n",
      "|                                856.0|\n",
      "|                                675.0|\n",
      "|                                511.0|\n",
      "+-------------------------------------+\n",
      "only showing top 10 rows\n",
      "\n"
     ]
    }
   ],
   "source": [
    "zillow.select(GrossInternalArea(\"facts and features\")).show(n = 10)"
   ]
  },
  {
   "attachments": {},
   "cell_type": "markdown",
   "metadata": {},
   "source": [
    "## Extract Number of Bedrooms"
   ]
  },
  {
   "cell_type": "code",
   "execution_count": 71,
   "metadata": {},
   "outputs": [],
   "source": [
    "@udf(returnType = FloatType()) \n",
    "def NumberOfBedrooms(input):\n",
    "    import re\n",
    "    try:\n",
    "        return float(re.search(\"([0-9]*)\\sbds\", input).group(1))\n",
    "    except:\n",
    "        return -1"
   ]
  },
  {
   "cell_type": "code",
   "execution_count": 72,
   "metadata": {},
   "outputs": [
    {
     "name": "stdout",
     "output_type": "stream",
     "text": [
      "+------------------------------------+\n",
      "|NumberOfBedrooms(facts and features)|\n",
      "+------------------------------------+\n",
      "|                                 2.0|\n",
      "|                                 2.0|\n",
      "|                                 1.0|\n",
      "|                                 4.0|\n",
      "|                                 2.0|\n",
      "|                                 3.0|\n",
      "|                                 2.0|\n",
      "|                                 2.0|\n",
      "|                                 1.0|\n",
      "|                                 2.0|\n",
      "+------------------------------------+\n",
      "only showing top 10 rows\n",
      "\n"
     ]
    }
   ],
   "source": [
    "zillow.select(NumberOfBedrooms(\"facts and features\")).show(n = 10)"
   ]
  },
  {
   "attachments": {},
   "cell_type": "markdown",
   "metadata": {},
   "source": [
    "## Extract Number of Bathrooms"
   ]
  },
  {
   "cell_type": "code",
   "execution_count": 69,
   "metadata": {},
   "outputs": [],
   "source": [
    "@udf(returnType = FloatType()) \n",
    "def NumberOfBathrooms(input):\n",
    "    import re\n",
    "    try:\n",
    "        return float(re.search(\"([0-9]*\\.[0-9]*)\\sba\", input).group(1))\n",
    "    except:\n",
    "        return -1"
   ]
  },
  {
   "cell_type": "code",
   "execution_count": 70,
   "metadata": {},
   "outputs": [
    {
     "name": "stdout",
     "output_type": "stream",
     "text": [
      "+-------------------------------------+\n",
      "|NumberOfBathrooms(facts and features)|\n",
      "+-------------------------------------+\n",
      "|                                  1.0|\n",
      "|                                  2.0|\n",
      "|                                  1.0|\n",
      "|                                  7.0|\n",
      "|                                  3.0|\n",
      "|                                  3.0|\n",
      "|                                  1.0|\n",
      "|                                  1.0|\n",
      "|                                  1.0|\n",
      "|                                  1.0|\n",
      "+-------------------------------------+\n",
      "only showing top 10 rows\n",
      "\n"
     ]
    }
   ],
   "source": [
    "zillow.select(NumberOfBathrooms(\"facts and features\")).show(n = 10)"
   ]
  },
  {
   "attachments": {},
   "cell_type": "markdown",
   "metadata": {},
   "source": [
    "## Extract Gross Internal Area"
   ]
  },
  {
   "cell_type": "code",
   "execution_count": 73,
   "metadata": {},
   "outputs": [],
   "source": [
    "@udf(returnType = FloatType()) \n",
    "def GrossInternalArea(input):\n",
    "    import re\n",
    "    try:\n",
    "        return float(re.search(\"([0-9]*)\\ssqft\", input).group(1))\n",
    "    except:\n",
    "        return -1"
   ]
  },
  {
   "cell_type": "code",
   "execution_count": 74,
   "metadata": {},
   "outputs": [
    {
     "name": "stdout",
     "output_type": "stream",
     "text": [
      "+-------------------------------------+\n",
      "|GrossInternalArea(facts and features)|\n",
      "+-------------------------------------+\n",
      "|                                705.0|\n",
      "|                               1228.0|\n",
      "|                               1000.0|\n",
      "|                               6836.0|\n",
      "|                               1000.0|\n",
      "|                               2313.0|\n",
      "|                                780.0|\n",
      "|                                856.0|\n",
      "|                                675.0|\n",
      "|                                511.0|\n",
      "+-------------------------------------+\n",
      "only showing top 10 rows\n",
      "\n"
     ]
    }
   ],
   "source": [
    "zillow.select(GrossInternalArea(\"facts and features\")).show(n = 10)"
   ]
  },
  {
   "attachments": {},
   "cell_type": "markdown",
   "metadata": {},
   "source": [
    "## Extract Type"
   ]
  },
  {
   "cell_type": "code",
   "execution_count": 79,
   "metadata": {},
   "outputs": [],
   "source": [
    "@udf(returnType = StringType()) \n",
    "def Type(input):\n",
    "    import re\n",
    "    try:\n",
    "        return re.search(\"(.*)\\sfor sale\", input).group(1)\n",
    "    except:\n",
    "        return input"
   ]
  },
  {
   "cell_type": "code",
   "execution_count": 80,
   "metadata": {},
   "outputs": [
    {
     "name": "stdout",
     "output_type": "stream",
     "text": [
      "+-----------+\n",
      "|Type(title)|\n",
      "+-----------+\n",
      "|      Condo|\n",
      "|      Condo|\n",
      "|      Condo|\n",
      "|      House|\n",
      "|      Condo|\n",
      "|      House|\n",
      "|      Condo|\n",
      "|      Condo|\n",
      "|      Condo|\n",
      "|      Condo|\n",
      "+-----------+\n",
      "only showing top 10 rows\n",
      "\n"
     ]
    }
   ],
   "source": [
    "zillow.select(Type(\"title\")).show(n = 10)"
   ]
  },
  {
   "attachments": {},
   "cell_type": "markdown",
   "metadata": {},
   "source": [
    "## Extract Offer"
   ]
  },
  {
   "cell_type": "code",
   "execution_count": 81,
   "metadata": {},
   "outputs": [],
   "source": [
    "@udf(returnType = StringType()) \n",
    "def Offer(input):\n",
    "    import re\n",
    "    try:\n",
    "        if bool(re.search(\"sale\", input)):\n",
    "            return \"sale\"\n",
    "        elif bool(re.search(\"rent\", input)):\n",
    "            return \"rent\"\n",
    "        elif bool(re.search(\"sold\", input)):\n",
    "            return \"sold\"\n",
    "        else:\n",
    "            return \"foreclose\"\n",
    "    except:\n",
    "        return input"
   ]
  },
  {
   "cell_type": "code",
   "execution_count": 82,
   "metadata": {},
   "outputs": [
    {
     "name": "stdout",
     "output_type": "stream",
     "text": [
      "+------------+\n",
      "|Offer(title)|\n",
      "+------------+\n",
      "|        sale|\n",
      "|        sale|\n",
      "|        sale|\n",
      "|        sale|\n",
      "|        sale|\n",
      "|        sale|\n",
      "|        sale|\n",
      "|        sale|\n",
      "|        sale|\n",
      "|        sale|\n",
      "+------------+\n",
      "only showing top 10 rows\n",
      "\n"
     ]
    }
   ],
   "source": [
    "zillow.select(Offer(\"title\")).show(n = 10)"
   ]
  },
  {
   "attachments": {},
   "cell_type": "markdown",
   "metadata": {},
   "source": [
    "## Extract Price"
   ]
  },
  {
   "cell_type": "code",
   "execution_count": 83,
   "metadata": {},
   "outputs": [],
   "source": [
    "@udf(returnType = IntegerType()) \n",
    "def Price(input):\n",
    "    import re\n",
    "    return int(re.search(\"([0-9,]+[0-9]+)\", input).group(1).replace(\",\", \"\"))"
   ]
  },
  {
   "cell_type": "code",
   "execution_count": 84,
   "metadata": {},
   "outputs": [
    {
     "name": "stdout",
     "output_type": "stream",
     "text": [
      "+------------+\n",
      "|Price(price)|\n",
      "+------------+\n",
      "|      342000|\n",
      "|     1700000|\n",
      "|      336500|\n",
      "|     9950000|\n",
      "|      479000|\n",
      "|      899000|\n",
      "|      397300|\n",
      "|      619900|\n",
      "|      850000|\n",
      "|      649900|\n",
      "+------------+\n",
      "only showing top 10 rows\n",
      "\n"
     ]
    }
   ],
   "source": [
    "zillow.select(Price(\"price\")).show(n = 10)"
   ]
  },
  {
   "attachments": {},
   "cell_type": "markdown",
   "metadata": {},
   "source": [
    "## Filter Out Listings That Are Not For Sale"
   ]
  },
  {
   "cell_type": "code",
   "execution_count": 85,
   "metadata": {},
   "outputs": [
    {
     "name": "stdout",
     "output_type": "stream",
     "text": [
      "+--------------+-------+------------+-----+-----------+-----------+--------------------+--------------------+--------------------+\n",
      "|         title|address|        city|state|postal_code|      price|  facts and features|real estate provider|                 url|\n",
      "+--------------+-------+------------+-----+-----------+-----------+--------------------+--------------------+--------------------+\n",
      "|Condo for sale|   null|  Somerville|   MA|       2145|  $342,000 |2 bds, 1.0 ba ,70...|William Raveis R....|https://www.zillo...|\n",
      "|Condo for sale|   null|      Boston|   MA|       2116|$1,700,000 |2 bds, 2.0 ba ,12...|Century 21 North ...|https://www.zillo...|\n",
      "|Condo for sale|   null|      Boston|   MA|       2118|  $336,500 |1 bds, 1.0 ba ,10...|Maloney Propertie...|https://www.zillo...|\n",
      "|House for sale|   null|      Boston|   MA|       2118|$9,950,000 |4 bds, 7.0 ba ,68...|Campion & Company...|https://www.zillo...|\n",
      "|Condo for sale|   null|      Boston|   MA|       2128|  $479,000 |2 bds, 3.0 ba ,10...|Berkshire Hathawa...|https://www.zillo...|\n",
      "|House for sale|   null| East Boston|   MA|       2128|  $899,000 |3 bds, 3.0 ba ,23...|Berkshire Hathawa...|https://www.zillo...|\n",
      "|Condo for sale|   null|  Somerville|   MA|       2145|  $397,300 |2 bds, 1.0 ba ,78...|William Raveis R....|https://www.zillo...|\n",
      "|Condo for sale|   null|South Boston|   MA|       2127|  $619,900 |2 bds, 1.0 ba ,85...|Bento Real Estate...|https://www.zillo...|\n",
      "|Condo for sale|   null|      Boston|   MA|       2116|  $850,000 |1 bds, 1.0 ba ,67...|Engel & Volkers B...|https://www.zillo...|\n",
      "|Condo for sale|   null|      Boston|   MA|       2114|  $649,900 |2 bds, 1.0 ba ,51...|Leading Edge Real...|https://www.zillo...|\n",
      "+--------------+-------+------------+-----+-----------+-----------+--------------------+--------------------+--------------------+\n",
      "only showing top 10 rows\n",
      "\n"
     ]
    }
   ],
   "source": [
    "zillow.select(\"*\").where(Offer(\"title\") == \"sale\").show(n = 10)"
   ]
  },
  {
   "attachments": {},
   "cell_type": "markdown",
   "metadata": {},
   "source": [
    "## Filter Out Listings With More Than 10 Bedrooms"
   ]
  },
  {
   "cell_type": "code",
   "execution_count": 87,
   "metadata": {},
   "outputs": [
    {
     "name": "stdout",
     "output_type": "stream",
     "text": [
      "+--------------+-------+------------+-----+-----------+-----------+--------------------+--------------------+--------------------+\n",
      "|         title|address|        city|state|postal_code|      price|  facts and features|real estate provider|                 url|\n",
      "+--------------+-------+------------+-----+-----------+-----------+--------------------+--------------------+--------------------+\n",
      "|Condo for sale|   null|  Somerville|   MA|       2145|  $342,000 |2 bds, 1.0 ba ,70...|William Raveis R....|https://www.zillo...|\n",
      "|Condo for sale|   null|      Boston|   MA|       2116|$1,700,000 |2 bds, 2.0 ba ,12...|Century 21 North ...|https://www.zillo...|\n",
      "|Condo for sale|   null|      Boston|   MA|       2118|  $336,500 |1 bds, 1.0 ba ,10...|Maloney Propertie...|https://www.zillo...|\n",
      "|House for sale|   null|      Boston|   MA|       2118|$9,950,000 |4 bds, 7.0 ba ,68...|Campion & Company...|https://www.zillo...|\n",
      "|Condo for sale|   null|      Boston|   MA|       2128|  $479,000 |2 bds, 3.0 ba ,10...|Berkshire Hathawa...|https://www.zillo...|\n",
      "|House for sale|   null| East Boston|   MA|       2128|  $899,000 |3 bds, 3.0 ba ,23...|Berkshire Hathawa...|https://www.zillo...|\n",
      "|Condo for sale|   null|  Somerville|   MA|       2145|  $397,300 |2 bds, 1.0 ba ,78...|William Raveis R....|https://www.zillo...|\n",
      "|Condo for sale|   null|South Boston|   MA|       2127|  $619,900 |2 bds, 1.0 ba ,85...|Bento Real Estate...|https://www.zillo...|\n",
      "|Condo for sale|   null|      Boston|   MA|       2116|  $850,000 |1 bds, 1.0 ba ,67...|Engel & Volkers B...|https://www.zillo...|\n",
      "|Condo for sale|   null|      Boston|   MA|       2114|  $649,900 |2 bds, 1.0 ba ,51...|Leading Edge Real...|https://www.zillo...|\n",
      "+--------------+-------+------------+-----+-----------+-----------+--------------------+--------------------+--------------------+\n",
      "only showing top 10 rows\n",
      "\n"
     ]
    }
   ],
   "source": [
    "zillow.select(\"*\").where(NumberOfBedrooms(\"facts and features\") <= 10).show(n = 10)"
   ]
  },
  {
   "attachments": {},
   "cell_type": "markdown",
   "metadata": {},
   "source": [
    "## Filter Out Listings With Price Greater Than 20000000 And Lower Than 100000"
   ]
  },
  {
   "cell_type": "code",
   "execution_count": 89,
   "metadata": {},
   "outputs": [
    {
     "name": "stdout",
     "output_type": "stream",
     "text": [
      "+--------------+-------+------------+-----+-----------+-----------+--------------------+--------------------+--------------------+\n",
      "|         title|address|        city|state|postal_code|      price|  facts and features|real estate provider|                 url|\n",
      "+--------------+-------+------------+-----+-----------+-----------+--------------------+--------------------+--------------------+\n",
      "|Condo for sale|   null|  Somerville|   MA|       2145|  $342,000 |2 bds, 1.0 ba ,70...|William Raveis R....|https://www.zillo...|\n",
      "|Condo for sale|   null|      Boston|   MA|       2116|$1,700,000 |2 bds, 2.0 ba ,12...|Century 21 North ...|https://www.zillo...|\n",
      "|Condo for sale|   null|      Boston|   MA|       2118|  $336,500 |1 bds, 1.0 ba ,10...|Maloney Propertie...|https://www.zillo...|\n",
      "|House for sale|   null|      Boston|   MA|       2118|$9,950,000 |4 bds, 7.0 ba ,68...|Campion & Company...|https://www.zillo...|\n",
      "|Condo for sale|   null|      Boston|   MA|       2128|  $479,000 |2 bds, 3.0 ba ,10...|Berkshire Hathawa...|https://www.zillo...|\n",
      "|House for sale|   null| East Boston|   MA|       2128|  $899,000 |3 bds, 3.0 ba ,23...|Berkshire Hathawa...|https://www.zillo...|\n",
      "|Condo for sale|   null|  Somerville|   MA|       2145|  $397,300 |2 bds, 1.0 ba ,78...|William Raveis R....|https://www.zillo...|\n",
      "|Condo for sale|   null|South Boston|   MA|       2127|  $619,900 |2 bds, 1.0 ba ,85...|Bento Real Estate...|https://www.zillo...|\n",
      "|Condo for sale|   null|      Boston|   MA|       2116|  $850,000 |1 bds, 1.0 ba ,67...|Engel & Volkers B...|https://www.zillo...|\n",
      "|Condo for sale|   null|      Boston|   MA|       2114|  $649,900 |2 bds, 1.0 ba ,51...|Leading Edge Real...|https://www.zillo...|\n",
      "+--------------+-------+------------+-----+-----------+-----------+--------------------+--------------------+--------------------+\n",
      "only showing top 10 rows\n",
      "\n"
     ]
    }
   ],
   "source": [
    "zillow.select(\"*\").where((Price(\"price\") >= 100000) & (Price(\"price\") <= 20000000)).show(n = 10)"
   ]
  },
  {
   "attachments": {},
   "cell_type": "markdown",
   "metadata": {},
   "source": [
    "## Calculate Average Price Per Sqft For Houses For Sale Grouping Them By The Number Of Bedrooms"
   ]
  },
  {
   "cell_type": "code",
   "execution_count": 139,
   "metadata": {},
   "outputs": [
    {
     "name": "stdout",
     "output_type": "stream",
     "text": [
      "+----+------------------+\n",
      "|nbds|          avgpsqft|\n",
      "+----+------------------+\n",
      "| 0.0|            1250.0|\n",
      "| 2.0| 713.7979122566344|\n",
      "| 3.0| 697.9300109064761|\n",
      "| 4.0|1125.3151402657086|\n",
      "| 5.0|1286.3502045373516|\n",
      "| 6.0| 529.4372004156471|\n",
      "| 7.0|1126.0252348993288|\n",
      "| 8.0|1567.6470588235295|\n",
      "| 9.0|1108.1412183984853|\n",
      "|11.0| 433.6545589325426|\n",
      "+----+------------------+\n",
      "\n"
     ]
    }
   ],
   "source": [
    "(zillow\n",
    " .select(Price(\"price\").alias(\"p\"),\n",
    "         GrossInternalArea(\"facts and features\").alias(\"gia\"),\n",
    "         NumberOfBedrooms(\"facts and features\").alias(\"nbds\"))\n",
    " .where((Type(\"title\") == \"House\") & (Offer(\"title\") == \"sale\"))) \\\n",
    " .groupBy(\"nbds\") \\\n",
    " .agg((avg(\"p\") / avg(\"gia\")).alias(\"avgpsqft\")) \\\n",
    " .orderBy(\"nbds\") \\\n",
    " .show()"
   ]
  }
 ],
 "metadata": {
  "kernelspec": {
   "display_name": "A2_pyspark-NvuiEpf6",
   "language": "python",
   "name": "python3"
  },
  "language_info": {
   "codemirror_mode": {
    "name": "ipython",
    "version": 3
   },
   "file_extension": ".py",
   "mimetype": "text/x-python",
   "name": "python",
   "nbconvert_exporter": "python",
   "pygments_lexer": "ipython3",
   "version": "3.10.11"
  },
  "orig_nbformat": 4
 },
 "nbformat": 4,
 "nbformat_minor": 2
}
